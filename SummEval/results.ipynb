{
 "cells": [
  {
   "cell_type": "markdown",
   "id": "b9676953",
   "metadata": {},
   "source": [
    "# Results Analysis on SummEval"
   ]
  },
  {
   "cell_type": "markdown",
   "id": "bcbba69d",
   "metadata": {},
   "source": [
    "## Imports"
   ]
  },
  {
   "cell_type": "code",
   "execution_count": 1,
   "id": "a588c820",
   "metadata": {},
   "outputs": [],
   "source": [
    "import pandas as pd\n",
    "import ast\n",
    "from scipy.stats import kendalltau"
   ]
  },
  {
   "cell_type": "markdown",
   "id": "49970a4a",
   "metadata": {},
   "source": [
    "## Data"
   ]
  },
  {
   "cell_type": "code",
   "execution_count": 2,
   "id": "9f82dbcd",
   "metadata": {},
   "outputs": [],
   "source": [
    "single_results = pd.read_csv(\"Results/single.csv\")"
   ]
  },
  {
   "cell_type": "markdown",
   "id": "8edf50b8",
   "metadata": {},
   "source": [
    "## Analysis"
   ]
  },
  {
   "cell_type": "code",
   "execution_count": 3,
   "id": "df4ea623",
   "metadata": {},
   "outputs": [
    {
     "name": "stdout",
     "output_type": "stream",
     "text": [
      "==== Tabelle pro Dimension ====\n",
      "             Kendall Tau  Ø Abweichung  Ø Ground Truth  Ø System\n",
      "relevance          0.395          1.17            3.74      2.61\n",
      "coherence          0.402          1.12            3.36      2.32\n",
      "fluency            0.404          1.58            4.58      3.00\n",
      "consistency        0.540          0.84            4.57      3.77\n",
      "\n",
      "==== Durchschnittswerte Gesamt ====\n",
      "Ø Kendall Tau (Dimensionen): 0.435\n",
      "Ø Abweichung (gesamt): 1.177\n",
      "Ø Ground Truth (gesamt): 4.062\n",
      "Ø System (gesamt): 2.925\n"
     ]
    }
   ],
   "source": [
    "def parse_dict_column(col):\n",
    "    return col.apply(ast.literal_eval)\n",
    "\n",
    "# === Dictionary-Zellen in echte Dictionaries umwandeln ===\n",
    "parsed_data = {dim: parse_dict_column(single_results[dim]) for dim in single_results.columns}\n",
    "\n",
    "# === Ground Truth, Systementscheidung und Abweichung extrahieren ===\n",
    "gt_df = pd.DataFrame({dim: parsed_data[dim].apply(lambda x: x[\"ground_truth\"]) for dim in parsed_data})\n",
    "system_df = pd.DataFrame({dim: parsed_data[dim].apply(lambda x: x[\"system_decision\"]) for dim in parsed_data})\n",
    "deviation_df = pd.DataFrame({dim: parsed_data[dim].apply(lambda x: x[\"deviation\"]) for dim in parsed_data})\n",
    "\n",
    "# === Kendall's Tau pro Dimension ===\n",
    "kendall_per_dim = {dim: kendalltau(gt_df[dim], system_df[dim]).correlation for dim in gt_df.columns}\n",
    "\n",
    "# === Durchschnittlicher Kendall-Tau über alle Dimensionen ===\n",
    "avg_kendall_tau = sum(kendall_per_dim.values()) / len(kendall_per_dim)\n",
    "\n",
    "# === Durchschnittliche Abweichung pro Dimension ===\n",
    "avg_dev_per_dim = deviation_df.mean().to_dict()\n",
    "avg_dev_overall = deviation_df.values.flatten().mean()\n",
    "\n",
    "# === Durchschnittswerte GT und System pro Dimension ===\n",
    "avg_gt_per_dim = gt_df.mean().to_dict()\n",
    "avg_sys_per_dim = system_df.mean().to_dict()\n",
    "avg_gt_overall = gt_df.values.flatten().mean()\n",
    "avg_sys_overall = system_df.values.flatten().mean()\n",
    "\n",
    "# === Tabelle erstellen ===\n",
    "summary_table = pd.DataFrame({\n",
    "    \"Kendall Tau\": kendall_per_dim,\n",
    "    \"Ø Abweichung\": avg_dev_per_dim,\n",
    "    \"Ø Ground Truth\": avg_gt_per_dim,\n",
    "    \"Ø System\": avg_sys_per_dim\n",
    "})\n",
    "\n",
    "# === Übersicht der Gesamtwerte ===\n",
    "gesamtwerte = {\n",
    "    \"Ø Kendall Tau (Dimensionen)\": avg_kendall_tau,\n",
    "    \"Ø Abweichung (gesamt)\": avg_dev_overall,\n",
    "    \"Ø Ground Truth (gesamt)\": avg_gt_overall,\n",
    "    \"Ø System (gesamt)\": avg_sys_overall\n",
    "}\n",
    "\n",
    "# === Ausgabe ===\n",
    "print(\"==== Tabelle pro Dimension ====\")\n",
    "print(summary_table.round(3))\n",
    "print(\"\\n==== Durchschnittswerte Gesamt ====\")\n",
    "for k, v in gesamtwerte.items():\n",
    "    print(f\"{k}: {v:.3f}\")"
   ]
  }
 ],
 "metadata": {
  "kernelspec": {
   "display_name": "venv",
   "language": "python",
   "name": "python3"
  },
  "language_info": {
   "codemirror_mode": {
    "name": "ipython",
    "version": 3
   },
   "file_extension": ".py",
   "mimetype": "text/x-python",
   "name": "python",
   "nbconvert_exporter": "python",
   "pygments_lexer": "ipython3",
   "version": "3.13.1"
  }
 },
 "nbformat": 4,
 "nbformat_minor": 5
}
