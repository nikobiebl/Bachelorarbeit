{
 "cells": [
  {
   "cell_type": "markdown",
   "id": "7601a43d",
   "metadata": {},
   "source": [
    "# Single Agent on SummEval "
   ]
  },
  {
   "cell_type": "markdown",
   "id": "00dea290",
   "metadata": {},
   "source": [
    "## Imports"
   ]
  },
  {
   "cell_type": "code",
   "execution_count": 35,
   "id": "c81fdd70",
   "metadata": {},
   "outputs": [],
   "source": [
    "import pandas as pd\n",
    "from datasets import load_dataset\n",
    "import os\n",
    "from dotenv import load_dotenv\n",
    "from autogen import ConversableAgent\n",
    "import re\n",
    "from tqdm import tqdm\n",
    "import numpy as np"
   ]
  },
  {
   "cell_type": "markdown",
   "id": "3411b20a",
   "metadata": {},
   "source": [
    "## Data"
   ]
  },
  {
   "cell_type": "code",
   "execution_count": 36,
   "id": "6b2976b0",
   "metadata": {},
   "outputs": [
    {
     "name": "stdout",
     "output_type": "stream",
     "text": [
      "<class 'pandas.core.frame.DataFrame'>\n",
      "RangeIndex: 100 entries, 0 to 99\n",
      "Data columns (total 6 columns):\n",
      " #   Column             Non-Null Count  Dtype \n",
      "---  ------             --------------  ----- \n",
      " 0   text               100 non-null    object\n",
      " 1   machine_summaries  100 non-null    object\n",
      " 2   relevance          100 non-null    int64 \n",
      " 3   coherence          100 non-null    int64 \n",
      " 4   fluency            100 non-null    int64 \n",
      " 5   consistency        100 non-null    int64 \n",
      "dtypes: int64(4), object(2)\n",
      "memory usage: 4.8+ KB\n",
      "None\n",
      "                                                text  \\\n",
      "0  Boss Nigel Pearson has urged Leicester to keep...   \n",
      "\n",
      "                                   machine_summaries  relevance  coherence  \\\n",
      "0  jamie vardy scored an injury-time winner again...          2          2   \n",
      "\n",
      "   fluency  consistency  \n",
      "0        3            2  \n"
     ]
    }
   ],
   "source": [
    "SummEval = load_dataset(\"mteb/summeval\")\n",
    "\n",
    "df = pd.DataFrame(SummEval[\"test\"])[[\"text\", \"machine_summaries\", \"relevance\", \"coherence\", \"fluency\", \"consistency\"]]\n",
    "\n",
    "problematic_indices = [5, 7, 8, 9, 10, 11, 18, 20, 26, 27, 33, 34, 39, 46, 61, 64, 68, 73, 75, 79, 85, 86, 88, 92, 96, 99]\n",
    "df_filtered = df.drop(index=problematic_indices).reset_index(drop=True)\n",
    "\n",
    "df_exploded = df_filtered.explode([\"machine_summaries\", \"relevance\", \"coherence\", \"fluency\", \"consistency\"]).reset_index(drop=True)\n",
    "\n",
    "df_sampled = df_exploded.iloc[:1200].sample(n=100, random_state=42).reset_index(drop=True)\n",
    "\n",
    "columns_to_round = [\"relevance\", \"coherence\", \"fluency\", \"consistency\"]\n",
    "\n",
    "df_sampled[columns_to_round] = df_sampled[columns_to_round].map(lambda x: int(np.ceil(x) if x % 1 > 0.5 else np.floor(x)))\n",
    "\n",
    "df_final = df_sampled\n",
    "\n",
    "print(df_final.info())\n",
    "print(df_final.head(1))"
   ]
  },
  {
   "cell_type": "markdown",
   "id": "714f4134",
   "metadata": {},
   "source": [
    "## Config"
   ]
  },
  {
   "cell_type": "code",
   "execution_count": 37,
   "id": "3ad2c45d",
   "metadata": {},
   "outputs": [],
   "source": [
    "load_dotenv()\n",
    "\n",
    "api_key = os.getenv(\"AZURE_OPENAI_API_KEY\")\n",
    "endpoint = os.getenv(\"AZURE_OPENAI_ENDPOINT\")\n",
    "deployment_name = os.getenv(\"AZURE_DEPLOYMENT_NAME\")\n",
    "api_version = os.getenv(\"AZURE_API_VERSION\", \"2023-12-01-preview\")\n",
    "\n",
    "config_list = [\n",
    "    {\n",
    "        \"model\": deployment_name,\n",
    "        \"api_key\": api_key,\n",
    "        \"base_url\": f\"{endpoint}/openai/deployments/{deployment_name}/chat/completions?api-version={api_version}\",\n",
    "        \"api_type\": \"azure\",\n",
    "        \"api_version\": api_version,  \n",
    "        \"temperature\": 0,\n",
    "        \"cache_seed\": 42,\n",
    "    }\n",
    "]"
   ]
  },
  {
   "cell_type": "markdown",
   "id": "f70b3ab8",
   "metadata": {},
   "source": [
    "## System Design"
   ]
  },
  {
   "cell_type": "code",
   "execution_count": 38,
   "id": "7d0810d1",
   "metadata": {},
   "outputs": [],
   "source": [
    "agent_system_message = f\"\"\"\n",
    "You are an objective Evaluator-Agent.\n",
    "In this task you will evaluate the quality of a summary written for a news article.\n",
    "To correctly solve this task, follow these steps:\n",
    "\n",
    "    1. Carefully read the news article, be aware of the information it contains.\n",
    "    2. Read the proposed summary.\n",
    "    3. Rate the summary with integer values on a scale from 1 (worst) to 5 (best) by its relevance, consistency, fluency, and coherence.\n",
    "\n",
    "Definitions:\n",
    "    Relevance:\n",
    "        - The rating measures how well the summary captures the key points of the article.\n",
    "        - Consider whether all and only the important aspects are contained in the summary.\n",
    "    Consistency:\n",
    "        - The rating measures whether the facts in the summary are consistent with the facts in the original article.\n",
    "        - Consider whether the summary does reproduce all facts accurately and does not make up untrue information.\n",
    "    Fluency:\n",
    "        - This rating measures the quality of individual sentences, are they well-written and grammatically correct.\n",
    "        - Consider the quality of individual sentences.\n",
    "    Coherence:\n",
    "        - The rating measures the quality of all sentences collectively, to the fit together and sound naturally.\n",
    "        - Consider the quality of the summary as a whole.\n",
    "\n",
    "Give an explanation on your evaluation using about 200 words.\n",
    "Always begin your output with: \"As an objective Evaluator-Agent I think ...\"\n",
    "Always end your output with a JSON object with the following format:{{\"relevance\": score, \"coherence\": score, \"fluency\": score, \"consistency\": score}} \n",
    "\"\"\""
   ]
  },
  {
   "cell_type": "code",
   "execution_count": 39,
   "id": "9ec66c4b",
   "metadata": {},
   "outputs": [],
   "source": [
    "initializer = ConversableAgent(\n",
    "    \"initializer\", \n",
    "    llm_config={\"config_list\": config_list},\n",
    "    human_input_mode=\"NEVER\",\n",
    "    )\n",
    "\n",
    "agent = ConversableAgent(\n",
    "    \"Evaluator-Agent\", \n",
    "    llm_config={\"config_list\": config_list},\n",
    "    system_message=agent_system_message,\n",
    "    human_input_mode=\"NEVER\",\n",
    "    )"
   ]
  },
  {
   "cell_type": "markdown",
   "id": "b27ae230",
   "metadata": {},
   "source": [
    "## Evaluation"
   ]
  },
  {
   "cell_type": "code",
   "execution_count": 40,
   "id": "e64de67a",
   "metadata": {},
   "outputs": [],
   "source": [
    "def evaluate(text, machine_summaries, relevance, coherence, fluency, consistency):\n",
    "    message = f\"\"\" \n",
    "    Article: {text}\n",
    "\n",
    "    Summary: {machine_summaries}\n",
    "    \"\"\"\n",
    "\n",
    "    result = initializer.initiate_chat(agent, message=message, max_turns=1)\n",
    "    result_str = str(result)\n",
    "\n",
    "    pattern = r'\"relevance\"\\s*:\\s*(\\d+)'\n",
    "    relevance_score = int(re.search(pattern, result_str).group(1))\n",
    "\n",
    "    pattern = r'\"coherence\"\\s*:\\s*(\\d+)'\n",
    "    coherence_score = int(re.search(pattern, result_str).group(1))\n",
    "\n",
    "    pattern = r'\"fluency\"\\s*:\\s*(\\d+)'\n",
    "    fluency_score = int(re.search(pattern, result_str).group(1))\n",
    "\n",
    "    pattern = r'\"consistency\"\\s*:\\s*(\\d+)'\n",
    "    consistency_score = int(re.search(pattern, result_str).group(1))\n",
    "\n",
    "    relevance_deviation = abs(relevance - relevance_score) \n",
    "    coherence_deviation = abs(coherence - coherence_score) \n",
    "    fluency_deviation = abs(fluency - fluency_score) \n",
    "    consistency_deviation = abs(consistency - consistency_score) \n",
    "\n",
    "    return {\n",
    "        \"relevance\": {\n",
    "            \"ground_truth\": relevance,\n",
    "            \"system_decision\": relevance_score,\n",
    "            \"deviation\": relevance_deviation\n",
    "        },\n",
    "        \"coherence\": {\n",
    "            \"ground_truth\": coherence,\n",
    "            \"system_decision\": coherence_score,\n",
    "            \"deviation\": coherence_deviation\n",
    "        },\n",
    "        \"fluency\": {\n",
    "            \"ground_truth\": fluency,\n",
    "            \"system_decision\": fluency_score,\n",
    "            \"deviation\": fluency_deviation\n",
    "        },\n",
    "        \"consistency\": {\n",
    "            \"ground_truth\": consistency,\n",
    "            \"system_decision\": consistency_score,\n",
    "            \"deviation\": consistency_deviation\n",
    "        }\n",
    "    }"
   ]
  },
  {
   "cell_type": "code",
   "execution_count": 41,
   "id": "b66b2ba3",
   "metadata": {},
   "outputs": [
    {
     "name": "stderr",
     "output_type": "stream",
     "text": [
      "Progress:   0%|          | 0/3 [00:00<?, ?it/s]"
     ]
    },
    {
     "name": "stdout",
     "output_type": "stream",
     "text": [
      "\u001b[33minitializer\u001b[0m (to Evaluator-Agent):\n",
      "\n",
      " \n",
      "    Article: Boss Nigel Pearson has urged Leicester to keep their cool and ignore their relegation rivals. The Foxes host Swansea on Saturday just three points from safety in the Barclays Premier League after back-to-back wins. Last week's 3-2 win at West Brom handed them a survival lifeline, although they remain bottom of the table. Jamie Vardy scored an injury-time winner against West Bromwich Albion on Saturday to improve his side's slim chance of Premier League survival Vardy celebrates in front of the travelling away fans after hitting the winner against West Brom But after their mini-revival, Pearson wants his side to remain focused on their own jobs. 'I'm very wary of people flipping the emphasis,' he said. 'Our future is in our own hands and if we go into the last game with that we have given ourselves a realistic chance. 'We need to make sure our own run-in is what we want it to be. Leicester manager Nigel Pearson has urged his players to focus on their own job and not worry about their relegation rivals during run-in 'It's helpful that other teams are being dragged into it. People are continually adjusting the form table and their predictions. 'We can't get involved in anything apart from being involved in our own games that may change people's perceptions. 'It's great when results go your way but they only help if you've done your own job. 'It's important for us to be in touch. One of the potential problems we have to deal with is people are now overly optimistic.'\n",
      "\n",
      "    Summary: jamie vardy scored an injury-time winner against west bromwich albion . swansea host swansea on saturday just three points from safety . west brom are bottom of the table . pearson wants his side to remain focused on their own jobs .\n",
      "    \n",
      "\n",
      "--------------------------------------------------------------------------------\n",
      "\u001b[33mEvaluator-Agent\u001b[0m (to initializer):\n",
      "\n",
      "As an objective Evaluator-Agent I think the summary provided has several strengths and weaknesses. \n",
      "\n",
      "In terms of relevance, the summary captures some key points from the article, such as Jamie Vardy's injury-time winner and Pearson's emphasis on focusing on their own performance. However, it fails to mention the context of Leicester's position in the league and the significance of their recent wins, which are crucial for understanding the situation. Therefore, I would rate relevance as a 3.\n",
      "\n",
      "For consistency, the summary contains factual inaccuracies, such as stating \"Swansea host Swansea,\" which is a repetition and does not accurately reflect the article's content. Additionally, it incorrectly states that \"West Brom are bottom of the table,\" while the article specifies that Leicester is at the bottom. This leads to a lower score of 2 for consistency.\n",
      "\n",
      "Regarding fluency, the sentences are generally clear but lack variety and complexity, making them somewhat simplistic. Thus, I would rate fluency as a 3.\n",
      "\n",
      "Finally, coherence is affected by the lack of logical flow and connection between the points made in the summary. The summary feels disjointed and does not effectively convey the overall message of the article. Therefore, I would rate coherence as a 2.\n",
      "\n",
      "Overall, the summary needs improvement in accuracy and depth to better reflect the article's content. \n",
      "\n",
      "{\"relevance\": 3, \"coherence\": 2, \"fluency\": 3, \"consistency\": 2}\n",
      "\n",
      "--------------------------------------------------------------------------------\n"
     ]
    },
    {
     "name": "stderr",
     "output_type": "stream",
     "text": [
      "Progress:  33%|███▎      | 1/3 [00:04<00:08,  4.29s/it]"
     ]
    },
    {
     "name": "stdout",
     "output_type": "stream",
     "text": [
      "\u001b[33minitializer\u001b[0m (to Evaluator-Agent):\n",
      "\n",
      " \n",
      "    Article: Carlos Tevez has been told to terminate his contract with Juventus to complete a return to his former club Boca Juniors in Argentina. The former Manchester City striker's deal with the Serie A champions does not expire until the end of next season but he has reportedly told the club he wishes to leave this summer. Boca have confirmed they are close to completing a deal for the 31-year-old, but club president Daniel Angelici has stressed that Tevez must terminate his contract with the Italians first. Carlos Tevez has shocked Juventus by suggesting he wants to leave the club this summer Tevez is on course to win a second Serie A title with the Old Lady and still has a shot at European glory 'We must be careful', Angelici told TYC Sports. 'We know that he wants to return to Argentina with Boca Juniors but he must first terminate his contract with Juventus, which runs until 2016. 'We are close to sealing his return and it will be done shortly.' The Argentina international joined Boca's youth academy in 1996 and went on to score 26 league goals in 76 appearances for the club before joining Corinthians in 2005. Although Juventus are reluctant to lose the league's top scorer - Tevez has netted 17 times this season - they have accepted the player wants to leave and have already started identifying potential replacements. Italian paper Tuttosport claims the 31-year-old has already decided to leave the club this summer Tevez has always said he intends to finish his career back at his first club Boca Juniors in Argentina Carlos Tevez                             17 Mauro Icardi                              16 Jeremy Menez                          16 Tevez's international manager Tata Martino claims any potential move would have no bearing on the player's Argentina future. 'The most important thing for me is that Tevez continues to play as well as he is at the moment,' Martino told Italian paper Tuttosport. 'It doesn't matter whether that's at Juventus or Boca. Only he'll know what's best for his future. 'I will say this, though: Juventus are a great team, but so are Boca Juniors. It wouldn't be a step down.'\n",
      "\n",
      "    Summary: Carlos Tevez has told Juventus he wants to leave the club this summer . The 31-year-old wants to return to his first club Boca Juniors in Argentina . Boca have confirmed they are close to completing a deal for the striker . But club president Daniel Angelici has stressed Tevez must terminate his contract with Juventus first .\n",
      "    \n",
      "\n",
      "--------------------------------------------------------------------------------\n",
      "\u001b[33mEvaluator-Agent\u001b[0m (to initializer):\n",
      "\n",
      "As an objective Evaluator-Agent I think the summary captures the main points of the article effectively, but it lacks some important details that would enhance its relevance. The summary correctly states that Carlos Tevez wants to leave Juventus and return to Boca Juniors, and it mentions the necessity of terminating his contract. However, it omits significant information such as Tevez's current performance, his status as the league's top scorer, and the fact that Juventus is already looking for replacements. These details are crucial for understanding the context of his potential move.\n",
      "\n",
      "In terms of consistency, the summary accurately reflects the facts presented in the article without introducing any inaccuracies. The fluency of the sentences is good; they are grammatically correct and well-structured. Coherence is also maintained throughout the summary, as the sentences logically flow from one to the next.\n",
      "\n",
      "Overall, while the summary is clear and consistent, it could be improved by including more key details from the article to enhance its relevance.\n",
      "\n",
      "{\"relevance\": 3, \"coherence\": 4, \"fluency\": 4, \"consistency\": 5}\n",
      "\n",
      "--------------------------------------------------------------------------------\n"
     ]
    },
    {
     "name": "stderr",
     "output_type": "stream",
     "text": [
      "Progress:  67%|██████▋   | 2/3 [00:07<00:03,  3.66s/it]"
     ]
    },
    {
     "name": "stdout",
     "output_type": "stream",
     "text": [
      "\u001b[33minitializer\u001b[0m (to Evaluator-Agent):\n",
      "\n",
      " \n",
      "    Article: A dress worn by Vivien Leigh when she played Scarlett O'Hara in the classic 1939 film Gone With the Wind has fetched $137,000 at auction. Heritage Auctions offered the gray jacket and skirt, featuring a black zigzag applique, plus more than 150 other items from the Academy Award-winning film at auction on Saturday in Beverly Hills, California. The dress - a jacket and full skirt ensemble - was worn in several key scenes in the 1939 movie, including when Scarlett O'Hara encounters Rhett Butler, played by Clark Gable, and when she gets attacked in the shanty town. Scroll down for video An outfit worn in several scenes of the 1939 film Gone With The Wind by Vivien Leigh as she played Scarlett O'Hara sold for $137,000 at auction on Saturday The dress - a jacket and full skirt ensemble - was worn in several key scenes in the 1939 movie but has suffered a little with age and has faded to light gray from original slate blue-gray color The outfit has suffered a little with age, however. When Leigh wore it in the movie, it was slate blue-gray but over the years it has faded to light gray. It was one of more than 150 items that were part of the private collection of James Tumblin, formerly in charge of the hair and makeup department at Universal Studios. Tumblin began collecting onscreen costumes, props and behind-the-scenes artifacts from the film in the 1960s, amassing a collection of more than 300,000 pieces of memorabilia. During a visit to the Western Costume Company he spotted the Scarlett O'Hara dress on the floor. He learned that the dress was about to be thrown away and negotiated a deal to buy it for $20. Tumblin has 'devoted his life and efforts to promoting Hollywood and this film, touring his items throughout the United States,' said Kathleen Guzman, managing director of Heritage Auctions. Gone With The Wind, which celebrated its 75th anniversary last year, was based on Margaret Mitchell's 1936 best-selling book about a spoiled Old South socialite, played by Vivien Leigh, and co-starred Clark gable as Rhett Butler Hattie McDaniel (left), Olivia DeHavilland (middle), and Vivien Leigh: McDaniel famously became the first African-American actor to be nominated for and win an Academy Award Other top selling items from the auction were a straw hat worn by Leigh that sold for $52,500; the trousers and jacket from a suit worn by Clark Gable as Rhett Butler, selling for $55,000; and a black bonnet worn by both Leigh and Olivia De Havilland as Melanie Wilkes, which fetched $30,000. Gone With The Wind, which celebrated its 75th anniversary last year, was based on Margaret Mitchell's 1936 best-selling book about a spoiled Old South socialite. Actress Hattie McDaniel, who played Scarlett's devoted nanny Mammy, a slave, famously became the first African-American actor to be nominated for and win an Academy Award.\n",
      "\n",
      "    Summary: heritage auctions offered the gray jacket and skirt , featuring a black zigzag applique , plus more than 150 other items from the academy award - winning film at auction on saturday in beverly hills , california . the dress - a jacket and full skirt ensemble - was worn in several key scenes in the 1939 movie , including when scarlett o'hara encounters rhett butler , played by clark gable , and when she gets attacked in the shanty town . an outfit worn in several scenes of the 1939 film gone with the wind by vivien leigh as she played scarlett o'hara sold for $ 137,000 at auction on saturday\n",
      "    \n",
      "\n",
      "--------------------------------------------------------------------------------\n",
      "\u001b[33mEvaluator-Agent\u001b[0m (to initializer):\n",
      "\n",
      "As an objective Evaluator-Agent I think the summary provided captures some key points of the article but lacks depth and completeness. \n",
      "\n",
      "In terms of relevance, the summary mentions the auction, the dress, and its price, which are important aspects. However, it fails to include significant details such as the history of the dress, its condition, and the background of the collector, James Tumblin. This omission detracts from the overall understanding of the article's context. Therefore, I would rate relevance as a 3.\n",
      "\n",
      "For consistency, the summary accurately reflects the facts presented in the article, so I would rate it a 5. \n",
      "\n",
      "Regarding fluency, the summary has grammatical issues, such as inconsistent capitalization and punctuation, which affect readability. Thus, I would rate fluency as a 2.\n",
      "\n",
      "Finally, coherence is lacking as the sentences do not flow well together, and the summary feels disjointed. It does not effectively connect the various points made in the article. Therefore, I would rate coherence as a 2.\n",
      "\n",
      "Overall, the summary needs improvement in fluency and coherence while maintaining consistency with the original article. \n",
      "\n",
      "{\"relevance\": 3, \"coherence\": 2, \"fluency\": 2, \"consistency\": 5}\n",
      "\n",
      "--------------------------------------------------------------------------------\n"
     ]
    },
    {
     "name": "stderr",
     "output_type": "stream",
     "text": [
      "Progress: 100%|██████████| 3/3 [00:10<00:00,  3.58s/it]\n"
     ]
    }
   ],
   "source": [
    "num_rows = 3\n",
    "\n",
    "results = []\n",
    "\n",
    "df_subset = df_final.head(num_rows)\n",
    "\n",
    "for _, row in tqdm(df_subset.iterrows(), total=num_rows, desc=\"Progress\"):\n",
    "    result = evaluate(\n",
    "        text=row[\"text\"],\n",
    "        machine_summaries=row[\"machine_summaries\"],\n",
    "        relevance=row[\"relevance\"],\n",
    "        coherence=row[\"coherence\"],\n",
    "        fluency=row[\"fluency\"],\n",
    "        consistency=row[\"consistency\"]\n",
    "    )\n",
    "    results.append(result)\n",
    "\n",
    "results_df = pd.DataFrame(results)\n",
    "results_df.to_csv('Results/single.csv', index=False)"
   ]
  }
 ],
 "metadata": {
  "kernelspec": {
   "display_name": "venv",
   "language": "python",
   "name": "python3"
  },
  "language_info": {
   "codemirror_mode": {
    "name": "ipython",
    "version": 3
   },
   "file_extension": ".py",
   "mimetype": "text/x-python",
   "name": "python",
   "nbconvert_exporter": "python",
   "pygments_lexer": "ipython3",
   "version": "3.13.1"
  }
 },
 "nbformat": 4,
 "nbformat_minor": 5
}
